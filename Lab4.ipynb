{
  "nbformat": 4,
  "nbformat_minor": 0,
  "metadata": {
    "colab": {
      "provenance": [],
      "gpuType": "T4"
    },
    "kernelspec": {
      "name": "python3",
      "display_name": "Python 3"
    },
    "language_info": {
      "name": "python"
    },
    "accelerator": "GPU"
  },
  "cells": [
    {
      "cell_type": "code",
      "execution_count": null,
      "metadata": {
        "colab": {
          "base_uri": "https://localhost:8080/"
        },
        "id": "EQ_DFeq69rJz",
        "outputId": "96d782d1-c7ed-4d0b-8798-2ccd152ceec6"
      },
      "outputs": [
        {
          "output_type": "stream",
          "name": "stdout",
          "text": [
            "Mounted at /content/drive\n"
          ]
        }
      ],
      "source": [
        "from google.colab import drive\n",
        "drive.mount(\"/content/drive\")"
      ]
    },
    {
      "cell_type": "markdown",
      "source": [
        "**BÀI 1**"
      ],
      "metadata": {
        "id": "N0Kme7g6XrLv"
      }
    },
    {
      "cell_type": "code",
      "source": [
        "f = open(\"/content/drive/MyDrive/sentiments.txt\", \"r\")\n",
        "s =  open(\"/content/drive/MyDrive/sents.txt\", \"r\")\n",
        "r = open(\"/content/drive/MyDrive/topics.txt\", \"r\")"
      ],
      "metadata": {
        "id": "44FlA5Li-pyJ"
      },
      "execution_count": null,
      "outputs": []
    },
    {
      "cell_type": "code",
      "source": [
        "sen_tr=[]\n",
        "sent_tr=[]\n",
        "to_tr=[]\n",
        "for i in f:\n",
        "  i=i.replace('\\n','')\n",
        "  sen_tr.append(int(i))\n",
        "for i in s:\n",
        "  i=i.replace('\\n','').replace(' .','').replace(',','')\n",
        "  sent_tr.append(i)\n",
        "for i in r:\n",
        "  i=i.replace('\\n','')\n",
        "  to_tr.append(int(i))"
      ],
      "metadata": {
        "id": "dbt86HxGAahl"
      },
      "execution_count": null,
      "outputs": []
    },
    {
      "cell_type": "code",
      "source": [
        "import numpy as np\n",
        "import pandas as pd\n",
        "sen_tr=np.array(sen_tr)\n",
        "sent_tr=pd.DataFrame(sent_tr)\n",
        "to_tr=np.array(to_tr)"
      ],
      "metadata": {
        "id": "8hLHIV9vQWFx"
      },
      "execution_count": null,
      "outputs": []
    },
    {
      "cell_type": "code",
      "source": [
        "from sklearn.feature_extraction.text import CountVectorizer\n",
        "vectorizer = CountVectorizer()\n",
        "sent_tr=vectorizer.fit_transform(sent_tr[0]).toarray()"
      ],
      "metadata": {
        "id": "o-eDOQ6nMeyI"
      },
      "execution_count": null,
      "outputs": []
    },
    {
      "cell_type": "code",
      "source": [
        "sent_tr=np.array(sent_tr)"
      ],
      "metadata": {
        "id": "KzgjgJylW9Y0"
      },
      "execution_count": null,
      "outputs": []
    },
    {
      "cell_type": "code",
      "source": [
        "to_tr=to_tr.reshape(11426,1)"
      ],
      "metadata": {
        "id": "rwK2QAXeXEzj"
      },
      "execution_count": null,
      "outputs": []
    },
    {
      "cell_type": "code",
      "source": [
        "df = np.concatenate((to_tr,sent_tr), axis=1)"
      ],
      "metadata": {
        "id": "6CO5jrLb-7uf"
      },
      "execution_count": null,
      "outputs": []
    },
    {
      "cell_type": "code",
      "source": [
        "df=np.array(df)"
      ],
      "metadata": {
        "id": "OB7nxjIIE21d"
      },
      "execution_count": null,
      "outputs": []
    },
    {
      "cell_type": "code",
      "source": [
        "from tensorflow.keras.preprocessing.sequence import pad_sequences\n",
        "MAX_LEN = 2600\n",
        "train = pad_sequences(df, maxlen=MAX_LEN, dtype=\"long\", value=0, truncating=\"post\", padding=\"post\")"
      ],
      "metadata": {
        "id": "5Tq9vHdRcQjE"
      },
      "execution_count": null,
      "outputs": []
    },
    {
      "cell_type": "code",
      "source": [
        "from sklearn import svm\n",
        "clf = svm.SVC()\n",
        "clf.fit(train, sen_tr)"
      ],
      "metadata": {
        "colab": {
          "base_uri": "https://localhost:8080/",
          "height": 74
        },
        "id": "6CAvVkaGYnva",
        "outputId": "4cf698ae-38df-4504-833e-b166a7ae19fc"
      },
      "execution_count": null,
      "outputs": [
        {
          "output_type": "execute_result",
          "data": {
            "text/plain": [
              "SVC()"
            ],
            "text/html": [
              "<style>#sk-container-id-12 {color: black;background-color: white;}#sk-container-id-12 pre{padding: 0;}#sk-container-id-12 div.sk-toggleable {background-color: white;}#sk-container-id-12 label.sk-toggleable__label {cursor: pointer;display: block;width: 100%;margin-bottom: 0;padding: 0.3em;box-sizing: border-box;text-align: center;}#sk-container-id-12 label.sk-toggleable__label-arrow:before {content: \"▸\";float: left;margin-right: 0.25em;color: #696969;}#sk-container-id-12 label.sk-toggleable__label-arrow:hover:before {color: black;}#sk-container-id-12 div.sk-estimator:hover label.sk-toggleable__label-arrow:before {color: black;}#sk-container-id-12 div.sk-toggleable__content {max-height: 0;max-width: 0;overflow: hidden;text-align: left;background-color: #f0f8ff;}#sk-container-id-12 div.sk-toggleable__content pre {margin: 0.2em;color: black;border-radius: 0.25em;background-color: #f0f8ff;}#sk-container-id-12 input.sk-toggleable__control:checked~div.sk-toggleable__content {max-height: 200px;max-width: 100%;overflow: auto;}#sk-container-id-12 input.sk-toggleable__control:checked~label.sk-toggleable__label-arrow:before {content: \"▾\";}#sk-container-id-12 div.sk-estimator input.sk-toggleable__control:checked~label.sk-toggleable__label {background-color: #d4ebff;}#sk-container-id-12 div.sk-label input.sk-toggleable__control:checked~label.sk-toggleable__label {background-color: #d4ebff;}#sk-container-id-12 input.sk-hidden--visually {border: 0;clip: rect(1px 1px 1px 1px);clip: rect(1px, 1px, 1px, 1px);height: 1px;margin: -1px;overflow: hidden;padding: 0;position: absolute;width: 1px;}#sk-container-id-12 div.sk-estimator {font-family: monospace;background-color: #f0f8ff;border: 1px dotted black;border-radius: 0.25em;box-sizing: border-box;margin-bottom: 0.5em;}#sk-container-id-12 div.sk-estimator:hover {background-color: #d4ebff;}#sk-container-id-12 div.sk-parallel-item::after {content: \"\";width: 100%;border-bottom: 1px solid gray;flex-grow: 1;}#sk-container-id-12 div.sk-label:hover label.sk-toggleable__label {background-color: #d4ebff;}#sk-container-id-12 div.sk-serial::before {content: \"\";position: absolute;border-left: 1px solid gray;box-sizing: border-box;top: 0;bottom: 0;left: 50%;z-index: 0;}#sk-container-id-12 div.sk-serial {display: flex;flex-direction: column;align-items: center;background-color: white;padding-right: 0.2em;padding-left: 0.2em;position: relative;}#sk-container-id-12 div.sk-item {position: relative;z-index: 1;}#sk-container-id-12 div.sk-parallel {display: flex;align-items: stretch;justify-content: center;background-color: white;position: relative;}#sk-container-id-12 div.sk-item::before, #sk-container-id-12 div.sk-parallel-item::before {content: \"\";position: absolute;border-left: 1px solid gray;box-sizing: border-box;top: 0;bottom: 0;left: 50%;z-index: -1;}#sk-container-id-12 div.sk-parallel-item {display: flex;flex-direction: column;z-index: 1;position: relative;background-color: white;}#sk-container-id-12 div.sk-parallel-item:first-child::after {align-self: flex-end;width: 50%;}#sk-container-id-12 div.sk-parallel-item:last-child::after {align-self: flex-start;width: 50%;}#sk-container-id-12 div.sk-parallel-item:only-child::after {width: 0;}#sk-container-id-12 div.sk-dashed-wrapped {border: 1px dashed gray;margin: 0 0.4em 0.5em 0.4em;box-sizing: border-box;padding-bottom: 0.4em;background-color: white;}#sk-container-id-12 div.sk-label label {font-family: monospace;font-weight: bold;display: inline-block;line-height: 1.2em;}#sk-container-id-12 div.sk-label-container {text-align: center;}#sk-container-id-12 div.sk-container {/* jupyter's `normalize.less` sets `[hidden] { display: none; }` but bootstrap.min.css set `[hidden] { display: none !important; }` so we also need the `!important` here to be able to override the default hidden behavior on the sphinx rendered scikit-learn.org. See: https://github.com/scikit-learn/scikit-learn/issues/21755 */display: inline-block !important;position: relative;}#sk-container-id-12 div.sk-text-repr-fallback {display: none;}</style><div id=\"sk-container-id-12\" class=\"sk-top-container\"><div class=\"sk-text-repr-fallback\"><pre>SVC()</pre><b>In a Jupyter environment, please rerun this cell to show the HTML representation or trust the notebook. <br />On GitHub, the HTML representation is unable to render, please try loading this page with nbviewer.org.</b></div><div class=\"sk-container\" hidden><div class=\"sk-item\"><div class=\"sk-estimator sk-toggleable\"><input class=\"sk-toggleable__control sk-hidden--visually\" id=\"sk-estimator-id-12\" type=\"checkbox\" checked><label for=\"sk-estimator-id-12\" class=\"sk-toggleable__label sk-toggleable__label-arrow\">SVC</label><div class=\"sk-toggleable__content\"><pre>SVC()</pre></div></div></div></div></div>"
            ]
          },
          "metadata": {},
          "execution_count": 104
        }
      ]
    },
    {
      "cell_type": "code",
      "source": [
        "f = open(\"/content/drive/MyDrive/sentiments (1).txt\", \"r\")\n",
        "s =  open(\"/content/drive/MyDrive/sents (1).txt\", \"r\")\n",
        "r = open(\"/content/drive/MyDrive/topics (1).txt\", \"r\")"
      ],
      "metadata": {
        "id": "SjmyApGzY_SM"
      },
      "execution_count": null,
      "outputs": []
    },
    {
      "cell_type": "code",
      "source": [
        "sen_t=[]\n",
        "sent_t=[]\n",
        "to_t=[]\n",
        "for i in f:\n",
        "  i=i.replace('\\n','')\n",
        "  sen_t.append(int(i))\n",
        "for i in s:\n",
        "  i=i.replace('\\n','').replace(' .','').replace(',','')\n",
        "  sent_t.append(i)\n",
        "for i in r:\n",
        "  i=i.replace('\\n','')\n",
        "  to_t.append(int(i))"
      ],
      "metadata": {
        "id": "d0LfZnMraEFA"
      },
      "execution_count": null,
      "outputs": []
    },
    {
      "cell_type": "code",
      "source": [
        "import numpy as np\n",
        "import pandas as pd\n",
        "sen_t=np.array(sen_t)\n",
        "sent_t=pd.DataFrame(sent_t)\n",
        "to_t=np.array(to_t)"
      ],
      "metadata": {
        "id": "ZwRDRspEaJUS"
      },
      "execution_count": null,
      "outputs": []
    },
    {
      "cell_type": "code",
      "source": [
        "from sklearn.feature_extraction.text import CountVectorizer\n",
        "vectorizer = CountVectorizer()\n",
        "sent_t=vectorizer.fit_transform(sent_t[0]).toarray()"
      ],
      "metadata": {
        "id": "uG0N0arTaNTj"
      },
      "execution_count": null,
      "outputs": []
    },
    {
      "cell_type": "code",
      "source": [
        "sent_t=np.array(sent_t)"
      ],
      "metadata": {
        "id": "CJ3xg9JSaRML"
      },
      "execution_count": null,
      "outputs": []
    },
    {
      "cell_type": "code",
      "source": [
        "to_t=to_t.reshape(3166,1)"
      ],
      "metadata": {
        "id": "d_-GtIIUaXLF"
      },
      "execution_count": null,
      "outputs": []
    },
    {
      "cell_type": "code",
      "source": [
        "df1 = np.concatenate((to_t,sent_t), axis=1)"
      ],
      "metadata": {
        "id": "TYizbNhJaaVO"
      },
      "execution_count": null,
      "outputs": []
    },
    {
      "cell_type": "code",
      "source": [
        "df1=np.array(df1)"
      ],
      "metadata": {
        "id": "R1i18QqBacCd"
      },
      "execution_count": null,
      "outputs": []
    },
    {
      "cell_type": "code",
      "source": [
        "from tensorflow.keras.preprocessing.sequence import pad_sequences\n",
        "MAX_LEN = 2600\n",
        "test = pad_sequences(df1, maxlen=MAX_LEN, dtype=\"long\", value=0, truncating=\"post\", padding=\"post\")"
      ],
      "metadata": {
        "id": "fe6SvsHXdH0k"
      },
      "execution_count": null,
      "outputs": []
    },
    {
      "cell_type": "code",
      "source": [
        "y_pred=clf.predict(test)\n",
        "from sklearn.metrics import accuracy_score\n",
        "print('Training size = %d, accuracy = %.2f%%' % \\\n",
        "      (sent_tr.shape[0],accuracy_score(sen_t, y_pred)*100))\n",
        "from sklearn.metrics import classification_report\n",
        "print(classification_report(sen_t, y_pred))"
      ],
      "metadata": {
        "colab": {
          "base_uri": "https://localhost:8080/"
        },
        "id": "TFd_tI_ra0Ru",
        "outputId": "27e1efa5-c90a-4df9-f096-d60430c055cd"
      },
      "execution_count": null,
      "outputs": [
        {
          "output_type": "stream",
          "name": "stdout",
          "text": [
            "Training size = 11426, accuracy = 50.44%\n",
            "              precision    recall  f1-score   support\n",
            "\n",
            "           0       0.48      0.88      0.62      1409\n",
            "           1       0.43      0.02      0.03       167\n",
            "           2       0.63      0.23      0.33      1590\n",
            "\n",
            "    accuracy                           0.50      3166\n",
            "   macro avg       0.51      0.37      0.33      3166\n",
            "weighted avg       0.55      0.50      0.44      3166\n",
            "\n"
          ]
        }
      ]
    },
    {
      "cell_type": "markdown",
      "source": [
        "**BÀI 2**"
      ],
      "metadata": {
        "id": "BKhA5wrveGm_"
      }
    },
    {
      "cell_type": "code",
      "source": [
        "f = open(\"/content/drive/MyDrive/sentiments.txt\", \"r\")\n",
        "s =  open(\"/content/drive/MyDrive/sents.txt\", \"r\")\n",
        "r = open(\"/content/drive/MyDrive/topics.txt\", \"r\")\n",
        "sen_tr=[]\n",
        "sent_tr=[]\n",
        "to_tr=[]\n",
        "for i in f:\n",
        "  i=i.replace('\\n','')\n",
        "  sen_tr.append(int(i))\n",
        "for i in s:\n",
        "  i=i.replace('\\n','').replace(' .','').replace(',','')\n",
        "  sent_tr.append(i)\n",
        "for i in r:\n",
        "  i=i.replace('\\n','')\n",
        "  to_tr.append(int(i))\n",
        "import numpy as np\n",
        "import pandas as pd\n",
        "sen_tr=np.array(sen_tr)\n",
        "sent_tr=pd.DataFrame(sent_tr)\n",
        "to_tr=np.array(to_tr)\n",
        "from sklearn.feature_extraction.text import TfidfVectorizer\n",
        "vectorizer = TfidfVectorizer()\n",
        "sent_tr=vectorizer.fit_transform(sent_tr[0]).toarray()\n",
        "sent_tr=np.array(sent_tr)\n",
        "to_tr=to_tr.reshape(11426,1)\n",
        "df = np.concatenate((to_tr,sent_tr), axis=1)\n",
        "df=np.array(df)\n",
        "from tensorflow.keras.preprocessing.sequence import pad_sequences\n",
        "MAX_LEN = 2600\n",
        "train = pad_sequences(df, maxlen=MAX_LEN, dtype=\"long\", value=0, truncating=\"post\", padding=\"post\")\n",
        "from sklearn import svm\n",
        "clf = svm.SVC()\n",
        "clf.fit(train, sen_tr)"
      ],
      "metadata": {
        "colab": {
          "base_uri": "https://localhost:8080/",
          "height": 74
        },
        "id": "4pzkNqR3eX9D",
        "outputId": "ab177551-81ba-4672-a64a-ef4da41632f8"
      },
      "execution_count": null,
      "outputs": [
        {
          "output_type": "execute_result",
          "data": {
            "text/plain": [
              "SVC()"
            ],
            "text/html": [
              "<style>#sk-container-id-13 {color: black;background-color: white;}#sk-container-id-13 pre{padding: 0;}#sk-container-id-13 div.sk-toggleable {background-color: white;}#sk-container-id-13 label.sk-toggleable__label {cursor: pointer;display: block;width: 100%;margin-bottom: 0;padding: 0.3em;box-sizing: border-box;text-align: center;}#sk-container-id-13 label.sk-toggleable__label-arrow:before {content: \"▸\";float: left;margin-right: 0.25em;color: #696969;}#sk-container-id-13 label.sk-toggleable__label-arrow:hover:before {color: black;}#sk-container-id-13 div.sk-estimator:hover label.sk-toggleable__label-arrow:before {color: black;}#sk-container-id-13 div.sk-toggleable__content {max-height: 0;max-width: 0;overflow: hidden;text-align: left;background-color: #f0f8ff;}#sk-container-id-13 div.sk-toggleable__content pre {margin: 0.2em;color: black;border-radius: 0.25em;background-color: #f0f8ff;}#sk-container-id-13 input.sk-toggleable__control:checked~div.sk-toggleable__content {max-height: 200px;max-width: 100%;overflow: auto;}#sk-container-id-13 input.sk-toggleable__control:checked~label.sk-toggleable__label-arrow:before {content: \"▾\";}#sk-container-id-13 div.sk-estimator input.sk-toggleable__control:checked~label.sk-toggleable__label {background-color: #d4ebff;}#sk-container-id-13 div.sk-label input.sk-toggleable__control:checked~label.sk-toggleable__label {background-color: #d4ebff;}#sk-container-id-13 input.sk-hidden--visually {border: 0;clip: rect(1px 1px 1px 1px);clip: rect(1px, 1px, 1px, 1px);height: 1px;margin: -1px;overflow: hidden;padding: 0;position: absolute;width: 1px;}#sk-container-id-13 div.sk-estimator {font-family: monospace;background-color: #f0f8ff;border: 1px dotted black;border-radius: 0.25em;box-sizing: border-box;margin-bottom: 0.5em;}#sk-container-id-13 div.sk-estimator:hover {background-color: #d4ebff;}#sk-container-id-13 div.sk-parallel-item::after {content: \"\";width: 100%;border-bottom: 1px solid gray;flex-grow: 1;}#sk-container-id-13 div.sk-label:hover label.sk-toggleable__label {background-color: #d4ebff;}#sk-container-id-13 div.sk-serial::before {content: \"\";position: absolute;border-left: 1px solid gray;box-sizing: border-box;top: 0;bottom: 0;left: 50%;z-index: 0;}#sk-container-id-13 div.sk-serial {display: flex;flex-direction: column;align-items: center;background-color: white;padding-right: 0.2em;padding-left: 0.2em;position: relative;}#sk-container-id-13 div.sk-item {position: relative;z-index: 1;}#sk-container-id-13 div.sk-parallel {display: flex;align-items: stretch;justify-content: center;background-color: white;position: relative;}#sk-container-id-13 div.sk-item::before, #sk-container-id-13 div.sk-parallel-item::before {content: \"\";position: absolute;border-left: 1px solid gray;box-sizing: border-box;top: 0;bottom: 0;left: 50%;z-index: -1;}#sk-container-id-13 div.sk-parallel-item {display: flex;flex-direction: column;z-index: 1;position: relative;background-color: white;}#sk-container-id-13 div.sk-parallel-item:first-child::after {align-self: flex-end;width: 50%;}#sk-container-id-13 div.sk-parallel-item:last-child::after {align-self: flex-start;width: 50%;}#sk-container-id-13 div.sk-parallel-item:only-child::after {width: 0;}#sk-container-id-13 div.sk-dashed-wrapped {border: 1px dashed gray;margin: 0 0.4em 0.5em 0.4em;box-sizing: border-box;padding-bottom: 0.4em;background-color: white;}#sk-container-id-13 div.sk-label label {font-family: monospace;font-weight: bold;display: inline-block;line-height: 1.2em;}#sk-container-id-13 div.sk-label-container {text-align: center;}#sk-container-id-13 div.sk-container {/* jupyter's `normalize.less` sets `[hidden] { display: none; }` but bootstrap.min.css set `[hidden] { display: none !important; }` so we also need the `!important` here to be able to override the default hidden behavior on the sphinx rendered scikit-learn.org. See: https://github.com/scikit-learn/scikit-learn/issues/21755 */display: inline-block !important;position: relative;}#sk-container-id-13 div.sk-text-repr-fallback {display: none;}</style><div id=\"sk-container-id-13\" class=\"sk-top-container\"><div class=\"sk-text-repr-fallback\"><pre>SVC()</pre><b>In a Jupyter environment, please rerun this cell to show the HTML representation or trust the notebook. <br />On GitHub, the HTML representation is unable to render, please try loading this page with nbviewer.org.</b></div><div class=\"sk-container\" hidden><div class=\"sk-item\"><div class=\"sk-estimator sk-toggleable\"><input class=\"sk-toggleable__control sk-hidden--visually\" id=\"sk-estimator-id-13\" type=\"checkbox\" checked><label for=\"sk-estimator-id-13\" class=\"sk-toggleable__label sk-toggleable__label-arrow\">SVC</label><div class=\"sk-toggleable__content\"><pre>SVC()</pre></div></div></div></div></div>"
            ]
          },
          "metadata": {},
          "execution_count": 115
        }
      ]
    },
    {
      "cell_type": "code",
      "source": [
        "f = open(\"/content/drive/MyDrive/sentiments (1).txt\", \"r\")\n",
        "s =  open(\"/content/drive/MyDrive/sents (1).txt\", \"r\")\n",
        "r = open(\"/content/drive/MyDrive/topics (1).txt\", \"r\")\n",
        "sen_t=[]\n",
        "sent_t=[]\n",
        "to_t=[]\n",
        "for i in f:\n",
        "  i=i.replace('\\n','')\n",
        "  sen_t.append(int(i))\n",
        "for i in s:\n",
        "  i=i.replace('\\n','').replace(' .','').replace(',','')\n",
        "  sent_t.append(i)\n",
        "for i in r:\n",
        "  i=i.replace('\\n','')\n",
        "  to_t.append(int(i))\n",
        "import numpy as np\n",
        "import pandas as pd\n",
        "sen_t=np.array(sen_t)\n",
        "sent_t=pd.DataFrame(sent_t)\n",
        "to_t=np.array(to_t)\n",
        "from sklearn.feature_extraction.text import TfidfVectorizer\n",
        "vectorizer = TfidfVectorizer()\n",
        "sent_t=vectorizer.fit_transform(sent_t[0]).toarray()\n",
        "sent_t=np.array(sent_t)\n",
        "to_t=to_t.reshape(3166,1)\n",
        "df1 = np.concatenate((to_t,sent_t), axis=1)\n",
        "df1=np.array(df1)\n",
        "from tensorflow.keras.preprocessing.sequence import pad_sequences\n",
        "MAX_LEN = 2600\n",
        "test = pad_sequences(df1, maxlen=MAX_LEN, dtype=\"long\", value=0, truncating=\"post\", padding=\"post\")\n",
        "y_pred=clf.predict(test)\n",
        "from sklearn.metrics import accuracy_score\n",
        "print('Training size = %d, accuracy = %.2f%%' % \\\n",
        "      (sent_tr.shape[0],accuracy_score(sen_t, y_pred)*100))\n",
        "from sklearn.metrics import classification_report\n",
        "print(classification_report(sen_t, y_pred))"
      ],
      "metadata": {
        "colab": {
          "base_uri": "https://localhost:8080/"
        },
        "id": "oPps08WUe5f6",
        "outputId": "e261b769-e42b-41e4-b420-9e8da6f2fce5"
      },
      "execution_count": null,
      "outputs": [
        {
          "output_type": "stream",
          "name": "stdout",
          "text": [
            "Training size = 11426, accuracy = 64.53%\n",
            "              precision    recall  f1-score   support\n",
            "\n",
            "           0       0.71      0.44      0.54      1409\n",
            "           1       0.00      0.00      0.00       167\n",
            "           2       0.62      0.90      0.73      1590\n",
            "\n",
            "    accuracy                           0.65      3166\n",
            "   macro avg       0.44      0.44      0.43      3166\n",
            "weighted avg       0.63      0.65      0.61      3166\n",
            "\n"
          ]
        },
        {
          "output_type": "stream",
          "name": "stderr",
          "text": [
            "/usr/local/lib/python3.10/dist-packages/sklearn/metrics/_classification.py:1344: UndefinedMetricWarning: Precision and F-score are ill-defined and being set to 0.0 in labels with no predicted samples. Use `zero_division` parameter to control this behavior.\n",
            "  _warn_prf(average, modifier, msg_start, len(result))\n",
            "/usr/local/lib/python3.10/dist-packages/sklearn/metrics/_classification.py:1344: UndefinedMetricWarning: Precision and F-score are ill-defined and being set to 0.0 in labels with no predicted samples. Use `zero_division` parameter to control this behavior.\n",
            "  _warn_prf(average, modifier, msg_start, len(result))\n",
            "/usr/local/lib/python3.10/dist-packages/sklearn/metrics/_classification.py:1344: UndefinedMetricWarning: Precision and F-score are ill-defined and being set to 0.0 in labels with no predicted samples. Use `zero_division` parameter to control this behavior.\n",
            "  _warn_prf(average, modifier, msg_start, len(result))\n"
          ]
        }
      ]
    },
    {
      "cell_type": "markdown",
      "source": [
        "**BÀI 3**"
      ],
      "metadata": {
        "id": "nRsSjFwZg1V2"
      }
    },
    {
      "cell_type": "code",
      "source": [
        "pip install vncorenlp"
      ],
      "metadata": {
        "colab": {
          "base_uri": "https://localhost:8080/"
        },
        "id": "Yz4Vg8wUg3xd",
        "outputId": "657afa24-6cf5-4841-8fcc-f5e07b0d0a7f"
      },
      "execution_count": null,
      "outputs": [
        {
          "output_type": "stream",
          "name": "stdout",
          "text": [
            "Requirement already satisfied: vncorenlp in /usr/local/lib/python3.10/dist-packages (1.0.3)\n",
            "Requirement already satisfied: requests in /usr/local/lib/python3.10/dist-packages (from vncorenlp) (2.31.0)\n",
            "Requirement already satisfied: charset-normalizer<4,>=2 in /usr/local/lib/python3.10/dist-packages (from requests->vncorenlp) (3.3.2)\n",
            "Requirement already satisfied: idna<4,>=2.5 in /usr/local/lib/python3.10/dist-packages (from requests->vncorenlp) (3.4)\n",
            "Requirement already satisfied: urllib3<3,>=1.21.1 in /usr/local/lib/python3.10/dist-packages (from requests->vncorenlp) (2.0.7)\n",
            "Requirement already satisfied: certifi>=2017.4.17 in /usr/local/lib/python3.10/dist-packages (from requests->vncorenlp) (2023.7.22)\n"
          ]
        }
      ]
    },
    {
      "cell_type": "code",
      "source": [
        "from vncorenlp import VnCoreNLP\n",
        "rdrsegmenter = VnCoreNLP(\"/content/drive/MyDrive/ML/vncorenlp/VnCoreNLP-1.1.1.jar\", annotators=\"wseg\", max_heap_size='-Xmx500m')"
      ],
      "metadata": {
        "id": "fqUGK3YQg-Tk"
      },
      "execution_count": null,
      "outputs": []
    },
    {
      "cell_type": "code",
      "source": [
        "f = open(\"/content/drive/MyDrive/sentiments.txt\", \"r\")\n",
        "s =  open(\"/content/drive/MyDrive/sents.txt\", \"r\")\n",
        "r = open(\"/content/drive/MyDrive/topics.txt\", \"r\")\n",
        "sen_tr=[]\n",
        "sent_tr=[]\n",
        "to_tr=[]\n",
        "for i in f:\n",
        "  i=i.replace('\\n','')\n",
        "  sen_tr.append(int(i))\n",
        "for i in s:\n",
        "  i=i.replace('\\n','').replace(' .','').replace(',','')\n",
        "  a = rdrsegmenter.tokenize(i)\n",
        "  a = ' '.join([\" \".join(x) for x in a])\n",
        "  sent_tr.append(a)\n",
        "for i in r:\n",
        "  i=i.replace('\\n','')\n",
        "  to_tr.append(int(i))\n",
        "import numpy as np\n",
        "import pandas as pd\n",
        "sen_tr=np.array(sen_tr)\n",
        "sent_tr=pd.DataFrame(sent_tr)\n",
        "to_tr=np.array(to_tr)\n",
        "from sklearn.feature_extraction.text import TfidfVectorizer\n",
        "vectorizer = TfidfVectorizer()\n",
        "sent_tr=vectorizer.fit_transform(sent_tr[0]).toarray()\n",
        "sent_tr=np.array(sent_tr)\n",
        "to_tr=to_tr.reshape(11426,1)\n",
        "df = np.concatenate((to_tr,sent_tr), axis=1)\n",
        "df=np.array(df)\n",
        "from tensorflow.keras.preprocessing.sequence import pad_sequences\n",
        "MAX_LEN = 2600\n",
        "train = pad_sequences(df, maxlen=MAX_LEN, dtype=\"long\", value=0, truncating=\"post\", padding=\"post\")\n",
        "from sklearn import svm\n",
        "clf = svm.SVC()\n",
        "clf.fit(train, sen_tr)"
      ],
      "metadata": {
        "colab": {
          "base_uri": "https://localhost:8080/",
          "height": 74
        },
        "id": "5SBb70qKhUG9",
        "outputId": "aeba3f5d-831d-4e53-cc61-e7c58f923db2"
      },
      "execution_count": null,
      "outputs": [
        {
          "output_type": "execute_result",
          "data": {
            "text/plain": [
              "SVC()"
            ],
            "text/html": [
              "<style>#sk-container-id-14 {color: black;background-color: white;}#sk-container-id-14 pre{padding: 0;}#sk-container-id-14 div.sk-toggleable {background-color: white;}#sk-container-id-14 label.sk-toggleable__label {cursor: pointer;display: block;width: 100%;margin-bottom: 0;padding: 0.3em;box-sizing: border-box;text-align: center;}#sk-container-id-14 label.sk-toggleable__label-arrow:before {content: \"▸\";float: left;margin-right: 0.25em;color: #696969;}#sk-container-id-14 label.sk-toggleable__label-arrow:hover:before {color: black;}#sk-container-id-14 div.sk-estimator:hover label.sk-toggleable__label-arrow:before {color: black;}#sk-container-id-14 div.sk-toggleable__content {max-height: 0;max-width: 0;overflow: hidden;text-align: left;background-color: #f0f8ff;}#sk-container-id-14 div.sk-toggleable__content pre {margin: 0.2em;color: black;border-radius: 0.25em;background-color: #f0f8ff;}#sk-container-id-14 input.sk-toggleable__control:checked~div.sk-toggleable__content {max-height: 200px;max-width: 100%;overflow: auto;}#sk-container-id-14 input.sk-toggleable__control:checked~label.sk-toggleable__label-arrow:before {content: \"▾\";}#sk-container-id-14 div.sk-estimator input.sk-toggleable__control:checked~label.sk-toggleable__label {background-color: #d4ebff;}#sk-container-id-14 div.sk-label input.sk-toggleable__control:checked~label.sk-toggleable__label {background-color: #d4ebff;}#sk-container-id-14 input.sk-hidden--visually {border: 0;clip: rect(1px 1px 1px 1px);clip: rect(1px, 1px, 1px, 1px);height: 1px;margin: -1px;overflow: hidden;padding: 0;position: absolute;width: 1px;}#sk-container-id-14 div.sk-estimator {font-family: monospace;background-color: #f0f8ff;border: 1px dotted black;border-radius: 0.25em;box-sizing: border-box;margin-bottom: 0.5em;}#sk-container-id-14 div.sk-estimator:hover {background-color: #d4ebff;}#sk-container-id-14 div.sk-parallel-item::after {content: \"\";width: 100%;border-bottom: 1px solid gray;flex-grow: 1;}#sk-container-id-14 div.sk-label:hover label.sk-toggleable__label {background-color: #d4ebff;}#sk-container-id-14 div.sk-serial::before {content: \"\";position: absolute;border-left: 1px solid gray;box-sizing: border-box;top: 0;bottom: 0;left: 50%;z-index: 0;}#sk-container-id-14 div.sk-serial {display: flex;flex-direction: column;align-items: center;background-color: white;padding-right: 0.2em;padding-left: 0.2em;position: relative;}#sk-container-id-14 div.sk-item {position: relative;z-index: 1;}#sk-container-id-14 div.sk-parallel {display: flex;align-items: stretch;justify-content: center;background-color: white;position: relative;}#sk-container-id-14 div.sk-item::before, #sk-container-id-14 div.sk-parallel-item::before {content: \"\";position: absolute;border-left: 1px solid gray;box-sizing: border-box;top: 0;bottom: 0;left: 50%;z-index: -1;}#sk-container-id-14 div.sk-parallel-item {display: flex;flex-direction: column;z-index: 1;position: relative;background-color: white;}#sk-container-id-14 div.sk-parallel-item:first-child::after {align-self: flex-end;width: 50%;}#sk-container-id-14 div.sk-parallel-item:last-child::after {align-self: flex-start;width: 50%;}#sk-container-id-14 div.sk-parallel-item:only-child::after {width: 0;}#sk-container-id-14 div.sk-dashed-wrapped {border: 1px dashed gray;margin: 0 0.4em 0.5em 0.4em;box-sizing: border-box;padding-bottom: 0.4em;background-color: white;}#sk-container-id-14 div.sk-label label {font-family: monospace;font-weight: bold;display: inline-block;line-height: 1.2em;}#sk-container-id-14 div.sk-label-container {text-align: center;}#sk-container-id-14 div.sk-container {/* jupyter's `normalize.less` sets `[hidden] { display: none; }` but bootstrap.min.css set `[hidden] { display: none !important; }` so we also need the `!important` here to be able to override the default hidden behavior on the sphinx rendered scikit-learn.org. See: https://github.com/scikit-learn/scikit-learn/issues/21755 */display: inline-block !important;position: relative;}#sk-container-id-14 div.sk-text-repr-fallback {display: none;}</style><div id=\"sk-container-id-14\" class=\"sk-top-container\"><div class=\"sk-text-repr-fallback\"><pre>SVC()</pre><b>In a Jupyter environment, please rerun this cell to show the HTML representation or trust the notebook. <br />On GitHub, the HTML representation is unable to render, please try loading this page with nbviewer.org.</b></div><div class=\"sk-container\" hidden><div class=\"sk-item\"><div class=\"sk-estimator sk-toggleable\"><input class=\"sk-toggleable__control sk-hidden--visually\" id=\"sk-estimator-id-14\" type=\"checkbox\" checked><label for=\"sk-estimator-id-14\" class=\"sk-toggleable__label sk-toggleable__label-arrow\">SVC</label><div class=\"sk-toggleable__content\"><pre>SVC()</pre></div></div></div></div></div>"
            ]
          },
          "metadata": {},
          "execution_count": 119
        }
      ]
    },
    {
      "cell_type": "code",
      "source": [
        "f = open(\"/content/drive/MyDrive/sentiments (1).txt\", \"r\")\n",
        "s =  open(\"/content/drive/MyDrive/sents (1).txt\", \"r\")\n",
        "r = open(\"/content/drive/MyDrive/topics (1).txt\", \"r\")\n",
        "sen_t=[]\n",
        "sent_t=[]\n",
        "to_t=[]\n",
        "for i in f:\n",
        "  i=i.replace('\\n','')\n",
        "  sen_t.append(int(i))\n",
        "for i in s:\n",
        "  i=i.replace('\\n','').replace(' .','').replace(',','')\n",
        "  a = rdrsegmenter.tokenize(i)\n",
        "  a = ' '.join([\" \".join(x) for x in a])\n",
        "  sent_t.append(a)\n",
        "for i in r:\n",
        "  i=i.replace('\\n','')\n",
        "  to_t.append(int(i))\n",
        "import numpy as np\n",
        "import pandas as pd\n",
        "sen_t=np.array(sen_t)\n",
        "sent_t=pd.DataFrame(sent_t)\n",
        "to_t=np.array(to_t)\n",
        "from sklearn.feature_extraction.text import TfidfVectorizer\n",
        "vectorizer = TfidfVectorizer()\n",
        "sent_t=vectorizer.fit_transform(sent_t[0]).toarray()\n",
        "sent_t=np.array(sent_t)\n",
        "to_t=to_t.reshape(3166,1)\n",
        "df1 = np.concatenate((to_t,sent_t), axis=1)\n",
        "df1=np.array(df1)\n",
        "from tensorflow.keras.preprocessing.sequence import pad_sequences\n",
        "MAX_LEN = 2600\n",
        "test = pad_sequences(df1, maxlen=MAX_LEN, dtype=\"long\", value=0, truncating=\"post\", padding=\"post\")\n",
        "y_pred=clf.predict(test)\n",
        "from sklearn.metrics import accuracy_score\n",
        "print('Training size = %d, accuracy = %.2f%%' % \\\n",
        "      (sent_tr.shape[0],accuracy_score(sen_t, y_pred)*100))\n",
        "from sklearn.metrics import classification_report\n",
        "print(classification_report(sen_t, y_pred))"
      ],
      "metadata": {
        "colab": {
          "base_uri": "https://localhost:8080/"
        },
        "id": "qohTL8GoiL-c",
        "outputId": "d60e1967-8f8f-4b59-f4fd-c4af24fd538a"
      },
      "execution_count": null,
      "outputs": [
        {
          "output_type": "stream",
          "name": "stdout",
          "text": [
            "Training size = 11426, accuracy = 64.69%\n",
            "              precision    recall  f1-score   support\n",
            "\n",
            "           0       0.72      0.44      0.54      1409\n",
            "           1       0.00      0.00      0.00       167\n",
            "           2       0.62      0.90      0.73      1590\n",
            "\n",
            "    accuracy                           0.65      3166\n",
            "   macro avg       0.45      0.45      0.43      3166\n",
            "weighted avg       0.63      0.65      0.61      3166\n",
            "\n"
          ]
        },
        {
          "output_type": "stream",
          "name": "stderr",
          "text": [
            "/usr/local/lib/python3.10/dist-packages/sklearn/metrics/_classification.py:1344: UndefinedMetricWarning: Precision and F-score are ill-defined and being set to 0.0 in labels with no predicted samples. Use `zero_division` parameter to control this behavior.\n",
            "  _warn_prf(average, modifier, msg_start, len(result))\n",
            "/usr/local/lib/python3.10/dist-packages/sklearn/metrics/_classification.py:1344: UndefinedMetricWarning: Precision and F-score are ill-defined and being set to 0.0 in labels with no predicted samples. Use `zero_division` parameter to control this behavior.\n",
            "  _warn_prf(average, modifier, msg_start, len(result))\n",
            "/usr/local/lib/python3.10/dist-packages/sklearn/metrics/_classification.py:1344: UndefinedMetricWarning: Precision and F-score are ill-defined and being set to 0.0 in labels with no predicted samples. Use `zero_division` parameter to control this behavior.\n",
            "  _warn_prf(average, modifier, msg_start, len(result))\n"
          ]
        }
      ]
    },
    {
      "cell_type": "markdown",
      "source": [
        "**Đánh giá ảnh hưởng của việc tách từ lên kết quả của mô hình SVM**\n",
        "- Giúp giảm nhiễu, cung cấp thêm các context cho mỗi từ => tăng độ chính xác cho mô hình"
      ],
      "metadata": {
        "id": "BjnWkbASwR2m"
      }
    }
  ]
}